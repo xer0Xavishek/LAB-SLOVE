{
 "cells": [
  {
   "cell_type": "markdown",
   "id": "7b76ade4",
   "metadata": {},
   "source": [
    "# bipartite graph detector\n"
   ]
  },
  {
   "cell_type": "code",
   "execution_count": 1,
   "id": "7eec093b",
   "metadata": {},
   "outputs": [
    {
     "name": "stdout",
     "output_type": "stream",
     "text": [
      "True\n"
     ]
    }
   ],
   "source": [
    "def is_bipartite(graph, start):\n",
    "    color = {node: -1 for node in graph}  # -1 = uncolored, 0 = green, 1 = red\n",
    "    queue = [start]\n",
    "    color[start] = 0  # Start coloring the first node as green (0)\n",
    "\n",
    "    while queue:\n",
    "        u = queue.pop(0)  # dequeue\n",
    "\n",
    "        for v in graph[u]:  # for each vertex v ∈ Adj[u]\n",
    "            if color[v] == -1:  # If the node is uncolored\n",
    "                color[v] = 1 - color[u]  # Assign the opposite color to the adjacent node\n",
    "                queue.append(v)  # enqueue\n",
    "            elif color[v] == color[u]:  # If the adjacent node has the same color\n",
    "                return False  # The graph is not bipartite\n",
    "\n",
    "    return True  # If no conflicts, the graph is bipartite\n",
    "\n",
    "\n",
    "# Example graph\n",
    "graph = {\n",
    "    'A': ['B', 'C'],\n",
    "    'B': ['A', 'D', 'E'],\n",
    "    'C': ['A', 'F'],\n",
    "    'D': ['B'],\n",
    "    'E': ['B'],\n",
    "    'F': ['C']\n",
    "}\n",
    "\n",
    "# Check if the graph is bipartite starting from node 'A'\n",
    "print(is_bipartite(graph, 'A'))  # Output: True or False"
   ]
  },
  {
   "cell_type": "code",
   "execution_count": 2,
   "id": "c945385c",
   "metadata": {},
   "outputs": [
    {
     "name": "stdout",
     "output_type": "stream",
     "text": [
      "True\n"
     ]
    }
   ],
   "source": [
    "def is_bipartite(graph, start):\n",
    "    color = {node: -1 for node in graph}  # -1 = uncolored, 0 = one color, 1 = another color\n",
    "    queue = [start]\n",
    "    color[start] = 0  # Start coloring the first node with color 0\n",
    "\n",
    "    while queue:\n",
    "        u = queue.pop(0)  # dequeue\n",
    "\n",
    "        for v in graph[u]:  # for each vertex v ∈ Adj[u]\n",
    "            if color[v] == -1:  # If the node is uncolored\n",
    "                color[v] = 1 - color[u]  # Assign the opposite color to the adjacent node\n",
    "                queue.append(v)  # enqueue\n",
    "            elif color[v] == color[u]:  # If the adjacent node has the same color\n",
    "                return False  # The graph is not bipartite\n",
    "\n",
    "    return True  # If no conflicts, the graph is bipartite\n",
    "\n",
    "\n",
    "# Example graph\n",
    "graph = {\n",
    "    'A': ['B', 'C'],\n",
    "    'B': ['A', 'D', 'E'],\n",
    "    'C': ['A', 'F'],\n",
    "    'D': ['B'],\n",
    "    'E': ['B'],\n",
    "    'F': ['C']\n",
    "}\n",
    "\n",
    "# Check if the graph is bipartite starting from node 'A'\n",
    "print(is_bipartite(graph, 'A'))  # Output: True or False"
   ]
  }
 ],
 "metadata": {
  "kernelspec": {
   "display_name": "Python 3",
   "language": "python",
   "name": "python3"
  },
  "language_info": {
   "codemirror_mode": {
    "name": "ipython",
    "version": 3
   },
   "file_extension": ".py",
   "mimetype": "text/x-python",
   "name": "python",
   "nbconvert_exporter": "python",
   "pygments_lexer": "ipython3",
   "version": "3.11.9"
  }
 },
 "nbformat": 4,
 "nbformat_minor": 5
}
