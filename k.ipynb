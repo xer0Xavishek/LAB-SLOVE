{
 "cells": [
  {
   "cell_type": "code",
   "execution_count": null,
   "id": "2ebd212e",
   "metadata": {},
   "outputs": [],
   "source": [
    "import numpy as np\n",
    "import matplotlib.pyplot as plt\n",
    "\n",
    "x = np.linspace(0, 4, 1000)\n",
    "S1 = (32/np.pi) * np.sin(np.pi*x/2)\n",
    "S3 = S1 + (32/(3*np.pi)) * np.sin(3*np.pi*x/2)\n",
    "S5 = S3 + (32/(5*np.pi)) * np.sin(5*np.pi*x/2)\n",
    "\n",
    "plt.plot(x, S1, label='S1')\n",
    "plt.plot(x, S3, label='S3')\n",
    "plt.plot(x, S5, label='S5')\n",
    "plt.legend()\n",
    "plt.show()"
   ]
  }
 ],
 "metadata": {
  "kernelspec": {
   "display_name": "Python 3",
   "language": "python",
   "name": "python3"
  },
  "language_info": {
   "name": "python",
   "version": "3.13.1"
  }
 },
 "nbformat": 4,
 "nbformat_minor": 5
}
